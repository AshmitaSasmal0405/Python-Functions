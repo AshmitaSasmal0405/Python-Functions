{
  "nbformat": 4,
  "nbformat_minor": 0,
  "metadata": {
    "colab": {
      "provenance": []
    },
    "kernelspec": {
      "name": "python3",
      "display_name": "Python 3"
    },
    "language_info": {
      "name": "python"
    }
  },
  "cells": [
    {
      "cell_type": "markdown",
      "source": [
        "#   ---------------Python Functions---------------\n",
        "\n",
        "\n",
        "\n",
        "1. What is the difference between a function and a method in Python?\n",
        "\n",
        " * Function: A standalone block of code that performs a specific task. It's called independently.\n",
        "   * Example: len(\"hello\")\n",
        " * Method: A function associated with an object. It operates on the object's data.\n",
        "   * Example: \"hello\".upper()\n",
        "\n",
        "\n",
        "2. Explain the concept of function arguments and parameters in Python.\n",
        "\n",
        " * Parameters: Variables listed inside the parentheses in the function definition. They act as placeholders for values the function expects.\n",
        " * Arguments: The actual values passed to the function when it's called. They fill the parameter placeholders.\n",
        "   * Example:\n",
        "     def greet(name):  # 'name' is the parameter\n",
        "    print(f\"Hello, {name}!\")\n",
        "\n",
        "greet(\"Alice\")  # \"Alice\" is the argument\n",
        "\n",
        "\n",
        "3. What are the different ways to define and call a function in Python?\n",
        "\n",
        " * Define:\n",
        "   * Using the def keyword: def my_function(): ...\n",
        "   * Using lambda expressions (anonymous functions): lambda x: x * 2\n",
        " * Call:\n",
        "   * Using the function name followed by parentheses: my_function()\n",
        "   * Passing arguments within the parentheses: my_function(arg1, arg2)\n",
        "\n",
        "\n",
        "4. What is the purpose of the return statement in a Python function?\n",
        "\n",
        " * The return statement ends the function's execution and sends a value back to the caller. If no value is specified, it returns None.\n",
        "\n",
        "\n",
        "5. What are iterators in Python and how do they differ from iterables?\n",
        "\n",
        " * Iterable: An object that can be looped over (e.g., lists, strings). It can produce an iterator.\n",
        " * Iterator: An object that produces values one at a time using _next_(). It remembers its state.\n",
        "   * Difference: Iterables can be converted into iterators using iter(). Iterators are consumed as they are used.\n",
        "\n",
        "\n",
        "6. Explain the concept of generators in Python and how they are defined.\n",
        "\n",
        " * Generator: A function that returns an iterator. It uses the yield keyword to produce values on demand, pausing and resuming execution.\n",
        " * Definition: Similar to a function, but uses yield instead of return.\n",
        "   * Example:\n",
        "     def count_up_to(n):\n",
        "    i = 1\n",
        "    while i <= n:\n",
        "        yield i\n",
        "        i += 1\n",
        "\n",
        "\n",
        "7. What are the advantages of using generators over regular functions?\n",
        "\n",
        " * Memory Efficiency: Generators produce values on demand, saving memory, especially for large datasets.\n",
        " * Lazy Evaluation: Values are generated only when needed, improving performance.\n",
        " * Better Readability: Can simplify code for complex iterations.\n",
        "\n",
        "\n",
        "8. What is a lambda function in Python and when is it typically used?\n",
        "\n",
        " * Lambda Function: An anonymous, small, inline function defined using the lambda keyword.\n",
        " * Usage: Typically used for short, simple operations where a full function definition is unnecessary.\n",
        "   * Example: lambda x: x * 2 (doubles a number).\n",
        "\n",
        "\n",
        "9. Explain the purpose and usage of the map() function in Python.\n",
        "\n",
        " * Purpose: Applies a function to each item of an iterable and returns an iterator of the results.\n",
        " * Usage: map(function, iterable)\n",
        "   * Example: map(lambda x: x**2, [1, 2, 3]) (squares each number in the list).\n",
        "\n",
        "\n",
        "10. What is the difference between map(), reduce(), and filter() functions in Python?\n",
        "\n",
        " * map(): Applies a function to each item and returns a new iterable of the transformed items.\n",
        " * reduce(): Applies a function cumulatively to the items of an iterable, reducing it to a single value. (Requires functools module in Python 3).\n",
        " * filter(): Creates a new iterable with items for which a function returns True.\n",
        "\n",
        "\n",
        "11. Using pen & Paper write the internal mechanism for sum operation using reduce function on this given list: [47,11,42,13];\n",
        "\n",
        " * Paper Explanation :\n",
        "\n",
        "   * Initial: reduce starts with the first two elements: 47 and 11.\n",
        "   * Step 1: 47 + 11 = 58. The result (58) becomes the first argument for the next step.\n",
        "   * Step 2: 58 + 42 = 100. The result (100) becomes the first argument for the next step.\n",
        "   * Step 3: 100 + 13 = 113. The final result is 113.\n",
        "\n",
        "   Python Code :\n",
        "\n",
        "   from functools import reduce\n",
        "   numbers = [47, 11, 42, 13]\n",
        "   total = reduce(lambda x, y: x + y, numbers)\n",
        "   print(total)\n",
        "   \n",
        "   # Output: 113\n",
        "\n"
      ],
      "metadata": {
        "id": "h5OhiXuTuYYQ"
      }
    },
    {
      "cell_type": "code",
      "source": [
        "#1. Write a Python function that takes a list of numbers as input and returns the sum of all even numbers in the list.\n",
        "\n",
        "def sum_even(numbers):\n",
        "    return sum(num for num in numbers if num % 2 == 0)\n",
        "\n",
        "sum_even([1, 2, 3, 4, 5, 6])"
      ],
      "metadata": {
        "colab": {
          "base_uri": "https://localhost:8080/"
        },
        "id": "B1GFNUdLxmox",
        "outputId": "dfb38271-0581-43b1-94d8-b1a476aa7815"
      },
      "execution_count": 3,
      "outputs": [
        {
          "output_type": "execute_result",
          "data": {
            "text/plain": [
              "12"
            ]
          },
          "metadata": {},
          "execution_count": 3
        }
      ]
    },
    {
      "cell_type": "code",
      "source": [
        "#2. Create a Python function that accepts a string and returns the reverse of that string.\n",
        "\n",
        "def reverse_string(s):\n",
        "    return s[::-1]\n",
        "\n",
        "reverse_string(\"hello\")"
      ],
      "metadata": {
        "colab": {
          "base_uri": "https://localhost:8080/",
          "height": 36
        },
        "id": "9Y3WyifTyRNO",
        "outputId": "fc44104c-3bdf-4d96-a74d-b838ba2e455a"
      },
      "execution_count": 4,
      "outputs": [
        {
          "output_type": "execute_result",
          "data": {
            "text/plain": [
              "'olleh'"
            ],
            "application/vnd.google.colaboratory.intrinsic+json": {
              "type": "string"
            }
          },
          "metadata": {},
          "execution_count": 4
        }
      ]
    },
    {
      "cell_type": "code",
      "source": [
        "#3.  Implement a Python function that takes a list of integers and returns a new list containing the squares of each number.\n",
        "\n",
        "def square_numbers(numbers):\n",
        "    return [num ** 2 for num in numbers]\n",
        "\n",
        "square_numbers([1, 2, 3, 4, 5])\n"
      ],
      "metadata": {
        "colab": {
          "base_uri": "https://localhost:8080/"
        },
        "id": "MbhoDaxQyq75",
        "outputId": "bd36d00f-ee86-4d65-e100-1181c386107e"
      },
      "execution_count": 5,
      "outputs": [
        {
          "output_type": "execute_result",
          "data": {
            "text/plain": [
              "[1, 4, 9, 16, 25]"
            ]
          },
          "metadata": {},
          "execution_count": 5
        }
      ]
    },
    {
      "cell_type": "code",
      "source": [
        "#4. Write a Python function that checks if a given number is prime or not from 1 to 200.\n",
        "\n",
        "def is_prime(n):\n",
        "    if n <= 1:\n",
        "        return False\n",
        "    for i in range(2, int(n**0.5) + 1):\n",
        "        if n % i == 0:\n",
        "            return False\n",
        "    return True\n",
        "\n",
        "is_prime(17)"
      ],
      "metadata": {
        "colab": {
          "base_uri": "https://localhost:8080/"
        },
        "id": "M8Xp2sNAy-0j",
        "outputId": "7ac7af1a-a536-4071-c814-97d1e3e4de1e"
      },
      "execution_count": 6,
      "outputs": [
        {
          "output_type": "execute_result",
          "data": {
            "text/plain": [
              "True"
            ]
          },
          "metadata": {},
          "execution_count": 6
        }
      ]
    },
    {
      "cell_type": "code",
      "source": [
        "#5.  Create an iterator class in Python that generates the Fibonacci sequence up to a specified number of terms.\n",
        "\n",
        "class Fibonacci:\n",
        "    def __init__(self, limit):\n",
        "        self.limit = limit\n",
        "        self.a, self.b = 0, 1\n",
        "        self.count = 0\n",
        "\n",
        "    def __iter__(self):\n",
        "        return self\n",
        "\n",
        "    def __next__(self):\n",
        "        if self.count < self.limit:\n",
        "            result = self.a\n",
        "            self.a, self.b = self.b, self.a + self.b\n",
        "            self.count += 1\n",
        "            return result\n",
        "        else:\n",
        "            raise StopIteration\n",
        "\n",
        "\n",
        "fib = Fibonacci(5)\n",
        "print(list(fib))"
      ],
      "metadata": {
        "colab": {
          "base_uri": "https://localhost:8080/"
        },
        "id": "tGFHE51szRSF",
        "outputId": "27d592e2-8f3a-42be-e38e-eda3c15bdbf1"
      },
      "execution_count": 15,
      "outputs": [
        {
          "output_type": "stream",
          "name": "stdout",
          "text": [
            "[0, 1, 1, 2, 3]\n"
          ]
        }
      ]
    },
    {
      "cell_type": "code",
      "source": [
        "#6. Write a generator function in Python that yields the powers of 2 up to a given exponent.\n",
        "\n",
        "def powers_of_2(exponent):\n",
        "    for i in range(exponent + 1):\n",
        "        yield 2 ** i\n",
        "\n",
        "list(powers_of_2(3))"
      ],
      "metadata": {
        "colab": {
          "base_uri": "https://localhost:8080/"
        },
        "id": "ONpXL-fA1vJs",
        "outputId": "b3c1e40b-6e32-4262-bb66-c29c79a946af"
      },
      "execution_count": 16,
      "outputs": [
        {
          "output_type": "execute_result",
          "data": {
            "text/plain": [
              "[1, 2, 4, 8]"
            ]
          },
          "metadata": {},
          "execution_count": 16
        }
      ]
    },
    {
      "cell_type": "code",
      "source": [
        "#7. Implement a generator function that reads a file line by line and yields each line as a string.\n",
        "\n",
        "def read_lines(filename):\n",
        "\n",
        "    try:\n",
        "        with open(filename, 'r') as file:\n",
        "            for line in file:\n",
        "                yield line\n",
        "    except FileNotFoundError:\n",
        "        print(f\"Error: File '{filename}' not found.\")\n",
        "\n",
        "filename = 'file.txt'\n",
        "try:\n",
        "    for line in read_lines(filename):\n",
        "        print(line.strip())\n",
        "except FileNotFoundError:\n",
        "    print(f\"Error: File '{filename}' not found.\")"
      ],
      "metadata": {
        "colab": {
          "base_uri": "https://localhost:8080/"
        },
        "id": "Y-lD2b2_2FqK",
        "outputId": "63e4484c-59b0-4dd0-9aa0-e442569ff352"
      },
      "execution_count": 19,
      "outputs": [
        {
          "output_type": "stream",
          "name": "stdout",
          "text": [
            "Error: File 'file.txt' not found.\n"
          ]
        }
      ]
    },
    {
      "cell_type": "code",
      "source": [
        "#8. Use a lambda function in Python to sort a list of tuples based on the second element of each tuple.\n",
        "\n",
        "data = [(1, 5), (3, 2), (2, 8), (4, 1)]\n",
        "sorted_data = sorted(data, key=lambda x: x[1])\n",
        "print(sorted_data)"
      ],
      "metadata": {
        "colab": {
          "base_uri": "https://localhost:8080/"
        },
        "id": "dtNfAGI-3GT4",
        "outputId": "befedb18-af66-46f2-95f4-e800c27444d0"
      },
      "execution_count": 20,
      "outputs": [
        {
          "output_type": "stream",
          "name": "stdout",
          "text": [
            "[(4, 1), (3, 2), (1, 5), (2, 8)]\n"
          ]
        }
      ]
    },
    {
      "cell_type": "code",
      "source": [
        "#9. Write a Python program that uses `map()` to convert a list of temperatures from Celsius to Fahrenheit.\n",
        "\n",
        "celsius_temperatures = [0, 10, 20, 30, 40]\n",
        "fahrenheit_temperatures = list(map(lambda c: (c * 9/5) + 32, celsius_temperatures))\n",
        "print(fahrenheit_temperatures)"
      ],
      "metadata": {
        "colab": {
          "base_uri": "https://localhost:8080/"
        },
        "id": "ds4yggew3aFR",
        "outputId": "1d14b38c-de19-45b1-da3f-1976922f26b3"
      },
      "execution_count": 22,
      "outputs": [
        {
          "output_type": "stream",
          "name": "stdout",
          "text": [
            "[32.0, 50.0, 68.0, 86.0, 104.0]\n"
          ]
        }
      ]
    },
    {
      "cell_type": "code",
      "source": [
        "#10. Create a Python program that uses `filter()` to remove all the vowels from a given string.\n",
        "\n",
        "def remove_vowels(s):\n",
        "    vowels = \"aeiouAEIOU\"\n",
        "    return \"\".join(filter(lambda char: char not in vowels, s))\n",
        "\n",
        "remove_vowels(\"Hello World\")"
      ],
      "metadata": {
        "colab": {
          "base_uri": "https://localhost:8080/",
          "height": 36
        },
        "id": "5NSfYswT4zvo",
        "outputId": "d5b2e0fc-8d9b-42dc-befb-03d19efa6aea"
      },
      "execution_count": 23,
      "outputs": [
        {
          "output_type": "execute_result",
          "data": {
            "text/plain": [
              "'Hll Wrld'"
            ],
            "application/vnd.google.colaboratory.intrinsic+json": {
              "type": "string"
            }
          },
          "metadata": {},
          "execution_count": 23
        }
      ]
    },
    {
      "cell_type": "code",
      "source": [
        "#11.Imagine an accounting routine used in a book shop. It works on a list with sublists, which look like this:\n",
        "# Write a Python program, which returns a list with 2-tuples. Each tuple consists of the order number and the\n",
        "# product of the price per item and the quantity. The product should be increased by 10,- € if the value of the\n",
        "# order is smaller than 100,00 €.\n",
        "\n",
        "# Write a Python program using lambda and map.\n",
        "\n",
        "\n",
        "orders = [\n",
        "    [34587, \"Learning Python, Mark Lutz\", 4, 40.95],\n",
        "    [98762, \"Programming Python, Mark Lutz\", 5, 56.80],\n",
        "    [77226, \"Head First Python, Paul Barry\", 3, 32.95],\n",
        "    [88112, \"Einführung in Python3, Bernd Klein\", 3, 24.99]\n",
        "]\n",
        "\n",
        "result = list(map(lambda order: (order[0], order[2] * order[3] + 10 if order[2] * order[3] < 100 else order[2] * order[3]), orders))\n",
        "\n",
        "result"
      ],
      "metadata": {
        "colab": {
          "base_uri": "https://localhost:8080/"
        },
        "id": "JFK2hrDP5IUJ",
        "outputId": "e2e67af4-a6bf-4349-eef9-0774a620ebd4"
      },
      "execution_count": 25,
      "outputs": [
        {
          "output_type": "execute_result",
          "data": {
            "text/plain": [
              "[(34587, 163.8), (98762, 284.0), (77226, 108.85000000000001), (88112, 84.97)]"
            ]
          },
          "metadata": {},
          "execution_count": 25
        }
      ]
    }
  ]
}